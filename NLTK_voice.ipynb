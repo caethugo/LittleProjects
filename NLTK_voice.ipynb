{
 "cells": [
  {
   "cell_type": "markdown",
   "metadata": {},
   "source": [
    "# Speech recognition + NLTK\n",
    "\n",
    "The goal of this repo is to show an exploration of the `NLTK` Python library for Natural Language Processing. We'll test various functions and create a program that responds to questions using human voice and the Google Speech Recognition API.\n",
    "\n",
    "# I- Google Speech Recognition\n",
    "\n",
    "First, let's test the Google API. "
   ]
  },
  {
   "cell_type": "code",
   "execution_count": 2,
   "metadata": {},
   "outputs": [],
   "source": [
    "import speech_recognition as sr"
   ]
  },
  {
   "cell_type": "code",
   "execution_count": 8,
   "metadata": {},
   "outputs": [
    {
     "name": "stdout",
     "output_type": "stream",
     "text": [
      "Say something!\n",
      "hello my name is this is a test or you listening to me\n"
     ]
    }
   ],
   "source": [
    "r = sr.Recognizer()\n",
    "with sr.Microphone() as source:\n",
    "    print(\"Say something!\")\n",
    "    audio = r.listen(source, timeout=8) #listening for 8 seconds\n",
    "    print(r.recognize_google(audio))"
   ]
  },
  {
   "cell_type": "markdown",
   "metadata": {},
   "source": [
    "Youhou, there is a little mistake due to my spelling byt now we know that it works ! Let's launch our next step. \n",
    "\n",
    "# II- Speech Recognition\n",
    "\n",
    "Now, the goal is to define some scenarios in which a robot hears an instruction like \"Tell me a joke\" and responds by actually telling a joke, for instance. \n",
    "\n",
    "I will do that by : \n",
    "\n",
    "- Make my computer record my audio for 10s \n",
    "- With `NLTK`, tokenize the sentences and proceed to some stemming\n",
    "- If there are the stems of `\"joke\"` and of `\"telling\"` then the robot tells a joke. \n",
    "- I will just code an exception if there is also `\"no\"` just near the stem of `\"telling\"`, let's say like 2 or three words apart. \n",
    "\n",
    "And that's it, let's code that. I will choose the joke myself but we could imagine implementing **more complex decision trees** and **plugging an LLM** on our little system. \n",
    "\n",
    "- I will use the `Porter` stemming algorithm. \n",
    "- First, let's set up our environment by loading some modules and defining a cool function. "
   ]
  },
  {
   "cell_type": "code",
   "execution_count": 14,
   "metadata": {},
   "outputs": [
    {
     "name": "stderr",
     "output_type": "stream",
     "text": [
      "[nltk_data] Downloading package punkt to\n",
      "[nltk_data]     /Users/hugocaetano/nltk_data...\n",
      "[nltk_data]   Unzipping tokenizers/punkt.zip.\n"
     ]
    }
   ],
   "source": [
    "import nltk \n",
    "nltk.download('punkt') #downloading library\n",
    "from nltk.tokenize import word_tokenize\n",
    "from nltk.stem import PorterStemmer\n",
    "\n",
    "# Initialize the NLTK Porter Stemmer\n",
    "stemmer = PorterStemmer()\n",
    "\n",
    "# Function to check if a list of words contains a stem\n",
    "def contains_stem(word_list, target_stem):\n",
    "    for word in word_list:\n",
    "        if stemmer.stem(word) == target_stem:\n",
    "            return True\n",
    "    return False"
   ]
  },
  {
   "cell_type": "markdown",
   "metadata": {},
   "source": [
    "Now, let's investigate on the stems we need. "
   ]
  },
  {
   "cell_type": "code",
   "execution_count": 18,
   "metadata": {},
   "outputs": [
    {
     "name": "stdout",
     "output_type": "stream",
     "text": [
      "words =  ['My', 'name', 'was', 'Hugo', '.', 'I', 'did', 'not', 'want', 'you', 'to', 'telling', 'me', 'a', 'joking']\n",
      "stems =  ['my', 'name', 'wa', 'hugo', '.', 'i', 'did', 'not', 'want', 'you', 'to', 'tell', 'me', 'a', 'joke']\n"
     ]
    }
   ],
   "source": [
    "#First getting words\n",
    "text = \"My name was Hugo. I did not want you to telling me a joking\"\n",
    "words = word_tokenize(text)\n",
    "print(\"words = \", words)\n",
    "\n",
    "#Then extracting stems\n",
    "stems = [stemmer.stem(word) for word in words]\n",
    "print(\"stems = \", stems)"
   ]
  },
  {
   "cell_type": "markdown",
   "metadata": {},
   "source": [
    "Nice, as we can see, \"telling\" becomes \"tell\", and there are other changes. I think i'm ready to code the little script. "
   ]
  },
  {
   "cell_type": "code",
   "execution_count": 20,
   "metadata": {},
   "outputs": [
    {
     "name": "stdout",
     "output_type": "stream",
     "text": [
      "Say something!\n",
      "You said: hello my name is Google please tell a joke\n",
      "Sure, here's a joke: Quel cri fait un quoicoumouton ? Quoicoubêêêêêêh\n"
     ]
    }
   ],
   "source": [
    "#Instantiating a joke\n",
    "joke = \"Quel cri fait un quoicoumouton ? Quoicoubêêêêêêh\"\n",
    "\n",
    "# Initialize the SpeechRecognizer\n",
    "r = sr.Recognizer()\n",
    "\n",
    "# Record audio for 10 seconds\n",
    "with sr.Microphone() as source:\n",
    "    print(\"Say something!\")\n",
    "    audio = r.listen(source, timeout=15) #here we can change the demo time\n",
    "\n",
    "# Convert audio to text using Google Speech Recognition\n",
    "audio_text = r.recognize_google(audio)\n",
    "print(\"You said: \" + audio_text)\n",
    "\n",
    "# Tokenize and stem the words in the audio text\n",
    "words = word_tokenize(audio_text.lower())  # Convert to lowercase for case insensitivity\n",
    "stems = [stemmer.stem(word) for word in words]\n",
    "\n",
    "# Check if \"joke\" and \"telling\" stems are present\n",
    "if contains_stem(stems, \"joke\") and contains_stem(stems, \"tell\"):\n",
    "    # Check for the presence of \"no\" within 2 or 3 words of \"telling\"\n",
    "    no_index = stems.index(\"no\") if \"no\" in stems else -1\n",
    "    tell_index = stems.index(\"tell\") if \"tell\" in stems else -1\n",
    "    if no_index != -1 and abs(no_index - tell_index) <= 4: #I think 4 is more relevant. For cases like \"I do not want you to tell a joke.\"\n",
    "        print(\"I won't tell a joke.\")\n",
    "    else:\n",
    "        # Let's tell a joke now\n",
    "        print(f\"Sure, here's a joke: {joke}\")\n",
    "else:\n",
    "    print(\"I didn't understand your instruction.\")\n"
   ]
  },
  {
   "cell_type": "markdown",
   "metadata": {},
   "source": [
    "Well it seems to work pretty well ! This notebook was just created to do a little experiment, but one could imagine setting up complex sets of rules and plugging lots of cool tools on that simple base ! "
   ]
  }
 ],
 "metadata": {
  "kernelspec": {
   "display_name": "Python 3",
   "language": "python",
   "name": "python3"
  },
  "language_info": {
   "codemirror_mode": {
    "name": "ipython",
    "version": 3
   },
   "file_extension": ".py",
   "mimetype": "text/x-python",
   "name": "python",
   "nbconvert_exporter": "python",
   "pygments_lexer": "ipython3",
   "version": "3.10.6"
  },
  "orig_nbformat": 4
 },
 "nbformat": 4,
 "nbformat_minor": 2
}
